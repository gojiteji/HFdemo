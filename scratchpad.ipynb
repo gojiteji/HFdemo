{
  "cells": [
    {
      "cell_type": "markdown",
      "metadata": {
        "id": "view-in-github",
        "colab_type": "text"
      },
      "source": [
        "<a href=\"https://colab.research.google.com/github/gojiteji/HFdemo/blob/main/scratchpad.ipynb\" target=\"_parent\"><img src=\"https://colab.research.google.com/assets/colab-badge.svg\" alt=\"Open In Colab\"/></a>"
      ]
    },
    {
      "cell_type": "code",
      "execution_count": null,
      "metadata": {
        "id": "lIYdn1woOS1n"
      },
      "outputs": [],
      "source": [
        "!pip install transformers huggingface_hub mecab-python3 ipadic fugashi"
      ]
    },
    {
      "cell_type": "markdown",
      "source": [
        "# HuggingFac CLIにログイン"
      ],
      "metadata": {
        "id": "bICbs79AReQz"
      }
    },
    {
      "cell_type": "code",
      "source": [
        "!huggingface-cli login"
      ],
      "metadata": {
        "id": "TLhyfJNzPle3"
      },
      "execution_count": null,
      "outputs": []
    },
    {
      "cell_type": "markdown",
      "source": [
        "# モデル作成"
      ],
      "metadata": {
        "id": "hKOHmK1qRa1s"
      }
    },
    {
      "cell_type": "code",
      "source": [
        "from transformers import AutoTokenizer, AutoModelForMaskedLM\n",
        "tokenizer = AutoTokenizer.from_pretrained(\"cl-tohoku/bert-base-japanese\")\n",
        "model = AutoModelForMaskedLM.from_pretrained(\"cl-tohoku/bert-base-japanese\")"
      ],
      "metadata": {
        "id": "pHWDIxoEOknR"
      },
      "execution_count": null,
      "outputs": []
    },
    {
      "cell_type": "markdown",
      "source": [
        "# モデルのアップロード"
      ],
      "metadata": {
        "id": "0cRD7IfJRZTv"
      }
    },
    {
      "cell_type": "code",
      "source": [
        "model.push_to_hub(\"demo_model\")"
      ],
      "metadata": {
        "id": "Ka9pMzUuQvQh"
      },
      "execution_count": null,
      "outputs": []
    }
  ],
  "metadata": {
    "colab": {
      "name": "scratchpad",
      "provenance": [],
      "include_colab_link": true
    },
    "kernelspec": {
      "display_name": "Python 3",
      "name": "python3"
    }
  },
  "nbformat": 4,
  "nbformat_minor": 0
}